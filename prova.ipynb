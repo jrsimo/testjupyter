{
 "cells": [
  {
   "cell_type": "markdown",
   "id": "2847f14e-a68d-48b4-aba4-ba52687c1e24",
   "metadata": {},
   "source": [
    "# Provant jupyter\n"
   ]
  },
  {
   "cell_type": "markdown",
   "id": "5ebdefe5-bd9a-47d2-a4ba-caaa6b83b3c7",
   "metadata": {},
   "source": [
    "Açò és una prova de markdown"
   ]
  },
  {
   "cell_type": "code",
   "execution_count": null,
   "id": "c0fd991a-3a88-438a-8fcb-d6b3f411b97e",
   "metadata": {},
   "outputs": [],
   "source": []
  }
 ],
 "metadata": {
  "kernelspec": {
   "display_name": "Python 3 (ipykernel)",
   "language": "python",
   "name": "python3"
  },
  "language_info": {
   "codemirror_mode": {
    "name": "ipython",
    "version": 3
   },
   "file_extension": ".py",
   "mimetype": "text/x-python",
   "name": "python",
   "nbconvert_exporter": "python",
   "pygments_lexer": "ipython3",
   "version": "3.11.4"
  }
 },
 "nbformat": 4,
 "nbformat_minor": 5
}
